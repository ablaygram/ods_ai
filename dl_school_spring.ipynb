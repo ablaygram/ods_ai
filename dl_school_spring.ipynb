{
 "cells": [
  {
   "cell_type": "code",
   "execution_count": 15,
   "id": "3097a441",
   "metadata": {},
   "outputs": [],
   "source": [
    "def almost_double_factorial(n):\n",
    "    if n == 0:\n",
    "        return 1\n",
    "    result = 1\n",
    "    for i in range (1,n+1):\n",
    "        if i%2 > 0:\n",
    "            result = result*i\n",
    "    return result"
   ]
  },
  {
   "cell_type": "code",
   "execution_count": 16,
   "id": "c41d3ffd",
   "metadata": {},
   "outputs": [],
   "source": [
    "items = [('one', 'two'), ('three', 'four'), ('five', 'six'), ('string', 'a')]"
   ]
  },
  {
   "cell_type": "code",
   "execution_count": 17,
   "id": "3f4a0873",
   "metadata": {},
   "outputs": [],
   "source": [
    "sorted_items = sorted(items, key=lambda x: x[1][-1])"
   ]
  },
  {
   "cell_type": "code",
   "execution_count": 18,
   "id": "bace0663",
   "metadata": {
    "scrolled": true
   },
   "outputs": [
    {
     "data": {
      "text/plain": [
       "[('string', 'a'), ('one', 'two'), ('three', 'four'), ('five', 'six')]"
      ]
     },
     "execution_count": 18,
     "metadata": {},
     "output_type": "execute_result"
    }
   ],
   "source": [
    "sorted_items"
   ]
  },
  {
   "cell_type": "code",
   "execution_count": 84,
   "id": "fd76fc9d",
   "metadata": {},
   "outputs": [],
   "source": [
    "x = [-5, 2, -3, 4, -1]"
   ]
  },
  {
   "cell_type": "code",
   "execution_count": 80,
   "id": "e497fe80",
   "metadata": {},
   "outputs": [
    {
     "data": {
      "text/plain": [
       "[-1, -3, -5]"
      ]
     },
     "execution_count": 80,
     "metadata": {},
     "output_type": "execute_result"
    }
   ],
   "source": [
    "x[-1::-2] "
   ]
  },
  {
   "cell_type": "code",
   "execution_count": 99,
   "id": "511942b9",
   "metadata": {},
   "outputs": [],
   "source": [
    "A = [5, 1, 4, 5, 14] \n",
    "def cumsum_and_erase(A, erase=1):\n",
    "    B = []\n",
    "    for i in range(1,len(A)+1):\n",
    "        b = sum(A[:i])\n",
    "        if b != erase:\n",
    "            B.append(b)\n",
    "    if B == []:\n",
    "        return \"Something is wrong! Please try again\"\n",
    "    else:\n",
    "        return B"
   ]
  },
  {
   "cell_type": "code",
   "execution_count": 102,
   "id": "294f38f8",
   "metadata": {},
   "outputs": [],
   "source": [
    "txt = ['1 thousand devils', 'My name is 9Pasha', 'Room #125 costs $100', '888']"
   ]
  },
  {
   "cell_type": "code",
   "execution_count": 120,
   "id": "867314bf",
   "metadata": {},
   "outputs": [
    {
     "name": "stdout",
     "output_type": "stream",
     "text": [
      "[]\n"
     ]
    }
   ],
   "source": [
    "print(b)"
   ]
  },
  {
   "cell_type": "code",
   "execution_count": 137,
   "id": "a2970c86",
   "metadata": {},
   "outputs": [],
   "source": [
    "def F(strings):\n",
    "    result = []\n",
    "    for string in strings:\n",
    "        s = string.split()\n",
    "        result.append(' '.join([x for x in s if x.isalpha()]))\n",
    "    return result"
   ]
  },
  {
   "cell_type": "code",
   "execution_count": 139,
   "id": "293fe3aa",
   "metadata": {},
   "outputs": [
    {
     "data": {
      "text/plain": [
       "['thousand devils', 'My name is', 'Room costs', '']"
      ]
     },
     "execution_count": 139,
     "metadata": {},
     "output_type": "execute_result"
    }
   ],
   "source": [
    "F(txt)"
   ]
  },
  {
   "cell_type": "code",
   "execution_count": 141,
   "id": "a4935b89",
   "metadata": {},
   "outputs": [
    {
     "name": "stdout",
     "output_type": "stream",
     "text": [
      "['1', 'thousand', 'devils']\n",
      "['My', 'name', 'is', '9Pasha']\n",
      "['Room', '#125', 'costs', '$100']\n",
      "['888']\n"
     ]
    }
   ],
   "source": [
    "result = []\n",
    "for i in txt:\n",
    "    s = i.split()\n",
    "    print(s)"
   ]
  },
  {
   "cell_type": "code",
   "execution_count": 142,
   "id": "a2d5d9dd",
   "metadata": {},
   "outputs": [],
   "source": [
    "class Neuron:\n",
    "\n",
    "    def __init__(self, w, f = lambda x: x):\n",
    "        self.w = w\n",
    "        self.f = f\n",
    "        self.x = []\n",
    "\n",
    "    def forward(self, x):\n",
    "        self.x = x\n",
    "        for_sum = sum([w_elem * x_elem for w_elem, x_elem in list(zip(self.w, self.x))])\n",
    "        return self.f(for_sum)\n",
    "\n",
    "    def backlog(self):\n",
    "        return self.x if self.x != [] else None"
   ]
  },
  {
   "cell_type": "code",
   "execution_count": null,
   "id": "97ec0239",
   "metadata": {},
   "outputs": [],
   "source": []
  }
 ],
 "metadata": {
  "kernelspec": {
   "display_name": "Python 3 (ipykernel)",
   "language": "python",
   "name": "python3"
  },
  "language_info": {
   "codemirror_mode": {
    "name": "ipython",
    "version": 3
   },
   "file_extension": ".py",
   "mimetype": "text/x-python",
   "name": "python",
   "nbconvert_exporter": "python",
   "pygments_lexer": "ipython3",
   "version": "3.9.7"
  }
 },
 "nbformat": 4,
 "nbformat_minor": 5
}
